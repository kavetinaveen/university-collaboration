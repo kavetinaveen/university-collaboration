{
 "cells": [
  {
   "cell_type": "code",
   "execution_count": 1,
   "id": "06bc7964-822e-41cb-a262-f042fbbb5949",
   "metadata": {
    "tags": []
   },
   "outputs": [],
   "source": [
    "import numpy as np\n",
    "import pandas as pd\n",
    "import re\n",
    "import random\n",
    "from nltk.stem import WordNetLemmatizer\n",
    "from sklearn.model_selection import train_test_split\n",
    "lemmatizer = WordNetLemmatizer()"
   ]
  },
  {
   "cell_type": "code",
   "execution_count": 2,
   "id": "6dc72b40-58d0-4eea-b411-699b8536bb48",
   "metadata": {},
   "outputs": [
    {
     "data": {
      "text/html": [
       "<div>\n",
       "<style scoped>\n",
       "    .dataframe tbody tr th:only-of-type {\n",
       "        vertical-align: middle;\n",
       "    }\n",
       "\n",
       "    .dataframe tbody tr th {\n",
       "        vertical-align: top;\n",
       "    }\n",
       "\n",
       "    .dataframe thead th {\n",
       "        text-align: right;\n",
       "    }\n",
       "</style>\n",
       "<table border=\"1\" class=\"dataframe\">\n",
       "  <thead>\n",
       "    <tr style=\"text-align: right;\">\n",
       "      <th></th>\n",
       "      <th>Query Pattern</th>\n",
       "      <th>Intent</th>\n",
       "      <th>Attribute</th>\n",
       "      <th>Aggregation</th>\n",
       "      <th>Paid Status</th>\n",
       "    </tr>\n",
       "  </thead>\n",
       "  <tbody>\n",
       "    <tr>\n",
       "      <th>0</th>\n",
       "      <td>Who are my outstanding debtors?</td>\n",
       "      <td>Invoice</td>\n",
       "      <td>None</td>\n",
       "      <td>List</td>\n",
       "      <td>FALSE</td>\n",
       "    </tr>\n",
       "    <tr>\n",
       "      <th>1</th>\n",
       "      <td>What are the names of my outstanding debtors?</td>\n",
       "      <td>Invoice</td>\n",
       "      <td>None</td>\n",
       "      <td>List</td>\n",
       "      <td>FALSE</td>\n",
       "    </tr>\n",
       "    <tr>\n",
       "      <th>2</th>\n",
       "      <td>Who are my outstanding creditors?</td>\n",
       "      <td>Invoice</td>\n",
       "      <td>None</td>\n",
       "      <td>List</td>\n",
       "      <td>FALSE</td>\n",
       "    </tr>\n",
       "    <tr>\n",
       "      <th>3</th>\n",
       "      <td>What are the names of my outstanding creditors?</td>\n",
       "      <td>Invoice</td>\n",
       "      <td>None</td>\n",
       "      <td>List</td>\n",
       "      <td>FALSE</td>\n",
       "    </tr>\n",
       "    <tr>\n",
       "      <th>4</th>\n",
       "      <td>What was the [aggregation_entity] invoice amou...</td>\n",
       "      <td>Sales</td>\n",
       "      <td>Customer</td>\n",
       "      <td>NaN</td>\n",
       "      <td>None</td>\n",
       "    </tr>\n",
       "  </tbody>\n",
       "</table>\n",
       "</div>"
      ],
      "text/plain": [
       "                                       Query Pattern   Intent Attribute  \\\n",
       "0                    Who are my outstanding debtors?  Invoice      None   \n",
       "1      What are the names of my outstanding debtors?  Invoice      None   \n",
       "2                  Who are my outstanding creditors?  Invoice      None   \n",
       "3    What are the names of my outstanding creditors?  Invoice      None   \n",
       "4  What was the [aggregation_entity] invoice amou...    Sales  Customer   \n",
       "\n",
       "  Aggregation Paid Status  \n",
       "0        List       FALSE  \n",
       "1        List       FALSE  \n",
       "2        List       FALSE  \n",
       "3        List       FALSE  \n",
       "4         NaN        None  "
      ]
     },
     "execution_count": 2,
     "metadata": {},
     "output_type": "execute_result"
    }
   ],
   "source": [
    "df = pd.read_csv(\"./data/query_pattern_data.csv\")\n",
    "df.head()"
   ]
  },
  {
   "cell_type": "code",
   "execution_count": 3,
   "id": "54d159ca-bfa6-4b88-b84c-c0197db60f82",
   "metadata": {},
   "outputs": [],
   "source": [
    "X_train, X_test, y_train, y_test = train_test_split(df[\"Query Pattern\"], df[\"Attribute\"], test_size = 0.2)\n",
    "\n",
    "df.loc[X_train.index, \"split\"] = \"train\"\n",
    "df.loc[X_test.index, \"split\"] = \"test\""
   ]
  },
  {
   "cell_type": "code",
   "execution_count": 4,
   "id": "4b3b2bb8-1164-4abe-9d0a-5cddbcb36ca8",
   "metadata": {},
   "outputs": [],
   "source": [
    "customers = pd.read_csv(\"data/customers.csv\")\n",
    "products = pd.read_csv(\"data/products.csv\")\n",
    "vendors = pd.read_csv(\"data/vendors.csv\")\n",
    "accounts = pd.read_csv(\"data/chart_of_accounts.csv\")\n",
    "employee = pd.read_csv(\"data/employees.csv\")\n",
    "date_ranges = pd.read_csv(\"data/date_ranges.csv\")\n",
    "\n",
    "ignore_keys = [\"sample\", \"test\", \"quickbooks\", \"unknown\", \"my company\", \"customer\", \"cash\", \"sale\", \"deposit\", \".\", \"payroll\", \"anonymous\"]"
   ]
  },
  {
   "cell_type": "code",
   "execution_count": 5,
   "id": "5ea96dc7-cdba-4d6c-a81a-7ad0bd8b6bcf",
   "metadata": {},
   "outputs": [],
   "source": [
    "def clean_names(df, var):\n",
    "    flag = df[var].apply(lambda x: sum([y in x for y in ignore_keys]))\n",
    "    df = df[flag == 0].reset_index(drop = True)\n",
    "    return df"
   ]
  },
  {
   "cell_type": "code",
   "execution_count": 6,
   "id": "42d8b258-ecdb-430e-87ac-cfffc803bc4f",
   "metadata": {},
   "outputs": [],
   "source": [
    "def stem_tokens(x):\n",
    "    return \" \".join([lemmatizer.lemmatize(y) for y in x.lower().split(\" \")])"
   ]
  },
  {
   "cell_type": "code",
   "execution_count": 7,
   "id": "afe94ece-55c3-47ff-b32b-1fa6aed3253e",
   "metadata": {},
   "outputs": [],
   "source": [
    "def get_variants(x):\n",
    "    variants = [x.lower()]\n",
    "    variants.append(stem_tokens(x))\n",
    "    if \"&\" in x:\n",
    "        x0 = x.split(\"&\")[0].strip().lower()\n",
    "        x1 = x.split(\"&\")[1].strip().lower()\n",
    "        variants.append(x0)\n",
    "        variants.append(stem_tokens(x0))\n",
    "        variants.append(x1)\n",
    "        variants.append(stem_tokens(x1))\n",
    "    if \"|\" in x:\n",
    "        x0 = x.split(\"|\")[0].strip().lower()\n",
    "        x1 = x.split(\"|\")[1].strip().lower()\n",
    "        variants.append(x0)\n",
    "        variants.append(stem_tokens(x0))\n",
    "        variants.append(x1)\n",
    "        variants.append(stem_tokens(x1))\n",
    "    variants = np.unique(variants)\n",
    "    return variants"
   ]
  },
  {
   "cell_type": "code",
   "execution_count": 8,
   "id": "996eb667-2ffd-41aa-9c0a-9d219b033bc1",
   "metadata": {},
   "outputs": [],
   "source": [
    "def choose_random_attribute(filter_by_attribute):\n",
    "    return random.sample(filter_by_attribute[random.sample(sorted(filter_by_attribute), 1)[0]].tolist(), 1)[0]"
   ]
  },
  {
   "cell_type": "code",
   "execution_count": 14,
   "id": "9c0f55d0-689c-4acc-9d4d-9fba6cf1ffa3",
   "metadata": {},
   "outputs": [],
   "source": [
    "customers = clean_names(customers, \"Customer name\")\n",
    "products = clean_names(products, \"Product/Service\")\n",
    "vendors = clean_names(vendors, \"Vendor name\")\n",
    "accounts = clean_names(accounts, \"Account name\")\n",
    "employee = clean_names(employee, \"Employee name\")"
   ]
  },
  {
   "cell_type": "code",
   "execution_count": 19,
   "id": "86ea4bfa-5933-4714-b461-85911bcf4672",
   "metadata": {},
   "outputs": [],
   "source": [
    "customers[\"Variants\"] = customers[\"Customer name\"].apply(lambda x: get_variants(x))\n",
    "products[\"Variants\"] = products[\"Product/Service\"].apply(lambda x: get_variants(x))\n",
    "vendors[\"Variants\"] = vendors[\"Vendor name\"].apply(lambda x: get_variants(x))\n",
    "accounts[\"Variants\"] = accounts[\"Account name\"].apply(lambda x: get_variants(x))\n",
    "employee[\"Variants\"] = employee[\"Employee name\"].apply(lambda x: get_variants(x))"
   ]
  },
  {
   "cell_type": "code",
   "execution_count": 22,
   "id": "cf3a3106-8b95-4ed9-8b84-2b75275175d0",
   "metadata": {},
   "outputs": [],
   "source": [
    "K = 50\n",
    "\n",
    "aggregation_entity = [\"total\", \"average\", \"mean\", \"max\", \"min\", \"first\", \"last\", \"highest\", \"lowest\"]\n",
    "\n",
    "intents = [\"sales\", \"expense\", \"invoice\", \"bill\", \"account payable\", \"account receivable\"]\n",
    "\n",
    "date_filter_entity = date_ranges[\"sample date ranges in questions\"].tolist()\n",
    "\n",
    "filter_by_customer = customers[:K].set_index(\"Customer name\").to_dict()[\"Variants\"]\n",
    "\n",
    "filter_by_product = products[:K].set_index(\"Product/Service\").to_dict()[\"Variants\"]\n",
    "\n",
    "filter_by_vendor = vendors[:K].set_index(\"Vendor name\").to_dict()[\"Variants\"]\n",
    "\n",
    "filter_by_account = accounts[:K].set_index(\"Account name\").to_dict()[\"Variants\"]\n",
    "\n",
    "filter_by_employee = employee[:K].set_index(\"Employee name\").to_dict()[\"Variants\"]\n",
    "\n",
    "group_by_entity = [\"account\", \"department\", \"vendor\", \"customer\", \"product\"]"
   ]
  },
  {
   "cell_type": "code",
   "execution_count": 23,
   "id": "5e64ef64-c1fe-4df9-8dcf-2b6f4c2d3be5",
   "metadata": {},
   "outputs": [
    {
     "data": {
      "text/plain": [
       "date_filter           67\n",
       "customer_name         44\n",
       "aggregation_entity    14\n",
       "product_name          10\n",
       "vendor_name           10\n",
       "salesperson_name       9\n",
       "account_name           9\n",
       "groupby_entity         1\n",
       "dtype: int64"
      ]
     },
     "execution_count": 23,
     "metadata": {},
     "output_type": "execute_result"
    }
   ],
   "source": [
    "attributes_list = df[\"Query Pattern\"].apply(lambda x:  re.findall(r'\\[.*?\\]', x))\n",
    "attributes_list = attributes_list.apply(lambda x: [y.replace(\"[\", \"\").replace(\"]\", \"\") for y in x])\n",
    "attributes_list = [x for y in attributes_list for x in y]\n",
    "pd.Series(attributes_list).value_counts()"
   ]
  },
  {
   "cell_type": "code",
   "execution_count": 24,
   "id": "394807f2-4199-4980-888d-0f005345e845",
   "metadata": {},
   "outputs": [],
   "source": [
    "attributes_dict = {\n",
    "    \"date_filter\": date_filter_entity,\n",
    "    \"customer_name\": filter_by_customer,\n",
    "    \"vendor_name\": filter_by_vendor,\n",
    "    \"product_name\": filter_by_product,\n",
    "    \"aggregation_entity\": aggregation_entity,\n",
    "    \"account_name\": filter_by_account,\n",
    "    \"employee_name\": filter_by_employee,\n",
    "    \"groupby_entity\": group_by_entity\n",
    "}"
   ]
  },
  {
   "cell_type": "code",
   "execution_count": 25,
   "id": "0f36c0db-3d66-4aac-af9b-7b9185c1f551",
   "metadata": {},
   "outputs": [],
   "source": [
    "def choose_random_attribute(attribute_dict):\n",
    "    return random.sample(attribute_dict[random.sample(sorted(attribute_dict), 1)[0]].tolist(), 1)[0]"
   ]
  },
  {
   "cell_type": "code",
   "execution_count": 26,
   "id": "1f018f93-cd68-48f6-8795-4ba2058110d8",
   "metadata": {},
   "outputs": [],
   "source": [
    "def replace_attributes(query_pattern):\n",
    "    attributes = re.findall(r'\\[.*?\\]', query_pattern)\n",
    "    for a in attributes:\n",
    "        a_cleaned = re.sub(r\"[\\[\\]]\", \"\", a)\n",
    "        if type(attributes_dict[a_cleaned]) == list:\n",
    "            select_attribute = random.sample(attributes_dict[a_cleaned], 1)[0]\n",
    "        else:\n",
    "            select_attribute = choose_random_attribute(attributes_dict[a_cleaned])\n",
    "        query_pattern = query_pattern.replace(a, select_attribute)\n",
    "        \n",
    "    return query_pattern"
   ]
  },
  {
   "cell_type": "code",
   "execution_count": 27,
   "id": "4331fb3b-c00e-4375-852f-f19ce9c6df89",
   "metadata": {},
   "outputs": [],
   "source": [
    "def get_aggregation(query):\n",
    "    if any(word in query for word in [\"average\", \"mean\"]):\n",
    "        return \"Average\"\n",
    "    elif any(word in query for word in [\"max\", \"last\", \"highest\"]):\n",
    "        return \"Max\"\n",
    "    elif any(word in query for word in [\"min\", \"first\", \"lowest\"]):\n",
    "        return \"Min\"\n",
    "    else:\n",
    "        return \"Total\""
   ]
  },
  {
   "cell_type": "code",
   "execution_count": 28,
   "id": "46eff4c5-9623-40dd-9236-35d7602467bf",
   "metadata": {},
   "outputs": [],
   "source": [
    "def simulate_questions(n):\n",
    "    df_sample = df[~df[\"Query Pattern\"].apply(lambda x: \"salesperson_name\" in x)].reset_index(drop=True)\n",
    "    df_simulated = df_sample.loc[random.choices(range(len(df_sample)), k=n)].reset_index(drop=True)\n",
    "    df_simulated[\"Query\"] = df_simulated[\"Query Pattern\"].apply(lambda x: replace_attributes(x))\n",
    "    df_simulated.loc[df_simulated[\"Aggregation\"].isna(), \"Aggregation\"] = df_simulated[df_simulated[\"Aggregation\"].isna()][\"Query\"].apply(lambda x: get_aggregation(x))\n",
    "    return df_simulated"
   ]
  },
  {
   "cell_type": "code",
   "execution_count": 29,
   "id": "aaabc84e-010e-46d5-a654-48004e623dae",
   "metadata": {},
   "outputs": [],
   "source": [
    "df_simulated = simulate_questions(5000)"
   ]
  },
  {
   "cell_type": "code",
   "execution_count": 30,
   "id": "006fa846-aa9c-4d9b-ba03-35effa1c6b04",
   "metadata": {},
   "outputs": [],
   "source": [
    "df_simulated[[\"Query\", \"Intent\", \"Aggregation\", \"Paid Status\", \"split\"]].to_csv(\"./df_simulated_v2.csv\", index=False)"
   ]
  },
  {
   "cell_type": "code",
   "execution_count": 31,
   "id": "0919bded-dddb-4c50-8243-71a4b135551f",
   "metadata": {},
   "outputs": [
    {
     "data": {
      "text/html": [
       "<div>\n",
       "<style scoped>\n",
       "    .dataframe tbody tr th:only-of-type {\n",
       "        vertical-align: middle;\n",
       "    }\n",
       "\n",
       "    .dataframe tbody tr th {\n",
       "        vertical-align: top;\n",
       "    }\n",
       "\n",
       "    .dataframe thead th {\n",
       "        text-align: right;\n",
       "    }\n",
       "</style>\n",
       "<table border=\"1\" class=\"dataframe\">\n",
       "  <thead>\n",
       "    <tr style=\"text-align: right;\">\n",
       "      <th></th>\n",
       "      <th>Query Pattern</th>\n",
       "      <th>Intent</th>\n",
       "      <th>Attribute</th>\n",
       "      <th>Aggregation</th>\n",
       "      <th>Paid Status</th>\n",
       "      <th>split</th>\n",
       "      <th>Query</th>\n",
       "    </tr>\n",
       "  </thead>\n",
       "  <tbody>\n",
       "    <tr>\n",
       "      <th>0</th>\n",
       "      <td>How many invoices have we sent to [customer_na...</td>\n",
       "      <td>Invoice</td>\n",
       "      <td>Customer</td>\n",
       "      <td>Count</td>\n",
       "      <td>None</td>\n",
       "      <td>test</td>\n",
       "      <td>How many invoices have we sent to freeman spor...</td>\n",
       "    </tr>\n",
       "    <tr>\n",
       "      <th>1</th>\n",
       "      <td>[date_filter], how many [product_name] did I s...</td>\n",
       "      <td>Invoice</td>\n",
       "      <td>Product</td>\n",
       "      <td>Count</td>\n",
       "      <td>None</td>\n",
       "      <td>train</td>\n",
       "      <td>This quarter, how many allowance did I sell?</td>\n",
       "    </tr>\n",
       "    <tr>\n",
       "      <th>2</th>\n",
       "      <td>Who are my outstanding debtors?</td>\n",
       "      <td>Invoice</td>\n",
       "      <td>None</td>\n",
       "      <td>List</td>\n",
       "      <td>FALSE</td>\n",
       "      <td>train</td>\n",
       "      <td>Who are my outstanding debtors?</td>\n",
       "    </tr>\n",
       "    <tr>\n",
       "      <th>3</th>\n",
       "      <td>[date_filter], how many invoices were paid?</td>\n",
       "      <td>Invoice</td>\n",
       "      <td>None</td>\n",
       "      <td>Count</td>\n",
       "      <td>TRUE</td>\n",
       "      <td>train</td>\n",
       "      <td>Last month, how many invoices were paid?</td>\n",
       "    </tr>\n",
       "    <tr>\n",
       "      <th>4</th>\n",
       "      <td>What was our biggest expense [date_filter]?</td>\n",
       "      <td>Expense</td>\n",
       "      <td>None</td>\n",
       "      <td>Max</td>\n",
       "      <td>None</td>\n",
       "      <td>train</td>\n",
       "      <td>What was our biggest expense Last quarter?</td>\n",
       "    </tr>\n",
       "  </tbody>\n",
       "</table>\n",
       "</div>"
      ],
      "text/plain": [
       "                                       Query Pattern   Intent Attribute  \\\n",
       "0  How many invoices have we sent to [customer_na...  Invoice  Customer   \n",
       "1  [date_filter], how many [product_name] did I s...  Invoice   Product   \n",
       "2                    Who are my outstanding debtors?  Invoice      None   \n",
       "3        [date_filter], how many invoices were paid?  Invoice      None   \n",
       "4        What was our biggest expense [date_filter]?  Expense      None   \n",
       "\n",
       "  Aggregation Paid Status  split  \\\n",
       "0       Count        None   test   \n",
       "1       Count        None  train   \n",
       "2        List       FALSE  train   \n",
       "3       Count        TRUE  train   \n",
       "4         Max        None  train   \n",
       "\n",
       "                                               Query  \n",
       "0  How many invoices have we sent to freeman spor...  \n",
       "1       This quarter, how many allowance did I sell?  \n",
       "2                    Who are my outstanding debtors?  \n",
       "3           Last month, how many invoices were paid?  \n",
       "4         What was our biggest expense Last quarter?  "
      ]
     },
     "execution_count": 31,
     "metadata": {},
     "output_type": "execute_result"
    }
   ],
   "source": [
    "df_simulated.head()"
   ]
  },
  {
   "cell_type": "code",
   "execution_count": null,
   "id": "b259a521-6b20-46f5-b560-f7b24c8ce474",
   "metadata": {},
   "outputs": [],
   "source": []
  }
 ],
 "metadata": {
  "kernelspec": {
   "display_name": "Python 3 (ipykernel)",
   "language": "python",
   "name": "python3"
  },
  "language_info": {
   "codemirror_mode": {
    "name": "ipython",
    "version": 3
   },
   "file_extension": ".py",
   "mimetype": "text/x-python",
   "name": "python",
   "nbconvert_exporter": "python",
   "pygments_lexer": "ipython3",
   "version": "3.9.7"
  }
 },
 "nbformat": 4,
 "nbformat_minor": 5
}
